{
  "cells": [
    {
      "cell_type": "markdown",
      "metadata": {
        "id": "WfTy0OEMqfm_"
      },
      "source": [
        "\n",
        "\n",
        "---\n",
        "# Hands-On: Análise de Dados\n",
        "\n",
        "\n",
        "---\n",
        "\n",
        "\n",
        "Parte II - ROOT\n",
        "\n",
        "9. Fazer um ajuste no pico que corresponde ao méson $J/\\Psi$ uando o RooFit.\n",
        "\n",
        "10. Extrair as informações dos parâmetros.\n",
        "\n",
        "11. Validação do fit (pull e/ou $\\chi^{2}/ndof$).\n",
        "\n",
        "\n",
        "\n",
        "\n",
        "\n",
        "\n",
        "\n",
        "\n"
      ]
    },
    {
      "cell_type": "code",
      "execution_count": 1,
      "metadata": {
        "id": "zXnfUCicp3Bg"
      },
      "outputs": [],
      "source": [
        "%load_ext autoreload\n",
        "%autoreload 2"
      ]
    },
    {
      "cell_type": "markdown",
      "source": [
        "# Instalar: coffea, uproot, awkward\n",
        "\n",
        "coffea, uproot, e awkward são três bibliotecas importantes para análise de dados em Física de Altas Energias (HEP), especialmente voltadas para trabalhar com arquivos ROOT, que são utilizados no contexto de experimentos no CERN.\n",
        "\n",
        "\n",
        "* [coffea](https://github.com/CoffeaTeam/coffea\n",
        ")\n",
        "\n",
        "* [uproot](https://uproot.readthedocs.io/en/latest/basic.html)\n",
        "\n",
        "*   [awkward](https://awkward-array.org/doc/main/)\n",
        "\n",
        "* Ferramentas adicionais:\n",
        "    * **pandas**: biblioteca para estruturas de dados tabulares e ferramentas de análise em Python.( [documentação do pandas](https://pandas.pydata.org/docs/getting_started/index.html))\n",
        "\n",
        "  * **numpy**: fornece cálculos numéricos, como criação de histogramas.\n",
        "\n",
        "  * **matplotlib**: ferramenta comum para criar gráficos, figuras, imagens, visualizações.\n",
        "\n",
        "  * **vector**: é especializada no trabalho com vetores em 2D, 3D e vetores de Lorentz. Esta biblioteca foi projetada para funcionar com versões do Python 3.8 ou superiores.([documentação do vector](https://vector.readthedocs.io/en/latest/))\n",
        "\n"
      ],
      "metadata": {
        "id": "ZFLCAt8SEBvA"
      }
    },
    {
      "cell_type": "code",
      "execution_count": 2,
      "metadata": {
        "id": "rTBqvC9kJ90T",
        "colab": {
          "base_uri": "https://localhost:8080/"
        },
        "outputId": "f65c8064-1fd1-46a8-da2c-b2da2b4d9568"
      },
      "outputs": [
        {
          "output_type": "stream",
          "name": "stdout",
          "text": [
            "Collecting coffea\n",
            "  Downloading coffea-2024.10.0-py3-none-any.whl.metadata (8.5 kB)\n",
            "Requirement already satisfied: aiohttp in /usr/local/lib/python3.10/dist-packages (from coffea) (3.10.10)\n",
            "Collecting awkward>=2.6.7 (from coffea)\n",
            "  Downloading awkward-2.6.9-py3-none-any.whl.metadata (7.0 kB)\n",
            "Requirement already satisfied: cachetools in /usr/local/lib/python3.10/dist-packages (from coffea) (5.5.0)\n",
            "Requirement already satisfied: cloudpickle>=1.2.3 in /usr/local/lib/python3.10/dist-packages (from coffea) (3.1.0)\n",
            "Collecting correctionlib>=2.6.0 (from coffea)\n",
            "  Downloading correctionlib-2.6.4-cp310-cp310-manylinux_2_17_x86_64.manylinux2014_x86_64.whl.metadata (7.2 kB)\n",
            "Collecting dask-awkward>=2024.9.0 (from coffea)\n",
            "  Downloading dask_awkward-2024.9.0-py3-none-any.whl.metadata (3.9 kB)\n",
            "Collecting dask-histogram>=2024.9.1 (from coffea)\n",
            "  Downloading dask_histogram-2024.9.1-py3-none-any.whl.metadata (3.9 kB)\n",
            "Requirement already satisfied: dask>=2024.3.0 in /usr/local/lib/python3.10/dist-packages (from dask[array]>=2024.3.0; python_version > \"3.8\"->coffea) (2024.10.0)\n",
            "Collecting fsspec-xrootd>=0.2.3 (from coffea)\n",
            "  Downloading fsspec_xrootd-0.4.0-py3-none-any.whl.metadata (4.0 kB)\n",
            "Collecting hist>=2 (from coffea)\n",
            "  Downloading hist-2.8.0-py3-none-any.whl.metadata (16 kB)\n",
            "Collecting lz4 (from coffea)\n",
            "  Downloading lz4-4.3.3-cp310-cp310-manylinux_2_17_x86_64.manylinux2014_x86_64.whl.metadata (3.7 kB)\n",
            "Requirement already satisfied: matplotlib>=3 in /usr/local/lib/python3.10/dist-packages (from coffea) (3.8.0)\n",
            "Collecting mplhep>=0.1.18 (from coffea)\n",
            "  Downloading mplhep-0.3.54-py3-none-any.whl.metadata (10 kB)\n",
            "Requirement already satisfied: numba>=0.58.1 in /usr/local/lib/python3.10/dist-packages (from coffea) (0.60.0)\n",
            "Requirement already satisfied: numpy>=1.22 in /usr/local/lib/python3.10/dist-packages (from coffea) (1.26.4)\n",
            "Requirement already satisfied: packaging in /usr/local/lib/python3.10/dist-packages (from coffea) (24.1)\n",
            "Requirement already satisfied: pandas in /usr/local/lib/python3.10/dist-packages (from coffea) (2.2.2)\n",
            "Requirement already satisfied: pyarrow>=6.0.0 in /usr/local/lib/python3.10/dist-packages (from coffea) (17.0.0)\n",
            "Requirement already satisfied: requests in /usr/local/lib/python3.10/dist-packages (from coffea) (2.32.3)\n",
            "Requirement already satisfied: scipy>=1.1.0 in /usr/local/lib/python3.10/dist-packages (from coffea) (1.13.1)\n",
            "Requirement already satisfied: toml>=0.10.2 in /usr/local/lib/python3.10/dist-packages (from coffea) (0.10.2)\n",
            "Requirement already satisfied: tqdm>=4.27.0 in /usr/local/lib/python3.10/dist-packages (from coffea) (4.66.6)\n",
            "Collecting uproot>=5.3.11 (from coffea)\n",
            "  Downloading uproot-5.4.1-py3-none-any.whl.metadata (32 kB)\n",
            "Collecting vector>=1.4.1 (from coffea)\n",
            "  Downloading vector-1.5.2-py3-none-any.whl.metadata (44 kB)\n",
            "\u001b[2K     \u001b[90m━━━━━━━━━━━━━━━━━━━━━━━━━━━━━━━━━━━━━━━━\u001b[0m \u001b[32m44.2/44.2 kB\u001b[0m \u001b[31m1.0 MB/s\u001b[0m eta \u001b[36m0:00:00\u001b[0m\n",
            "\u001b[?25hCollecting awkward-cpp==39 (from awkward>=2.6.7->coffea)\n",
            "  Downloading awkward_cpp-39-cp310-cp310-manylinux_2_17_x86_64.manylinux2014_x86_64.whl.metadata (2.2 kB)\n",
            "Requirement already satisfied: fsspec>=2022.11.0 in /usr/local/lib/python3.10/dist-packages (from awkward>=2.6.7->coffea) (2024.10.0)\n",
            "Requirement already satisfied: importlib-metadata>=4.13.0 in /usr/local/lib/python3.10/dist-packages (from awkward>=2.6.7->coffea) (8.5.0)\n",
            "Requirement already satisfied: typing-extensions>=4.1.0 in /usr/local/lib/python3.10/dist-packages (from awkward>=2.6.7->coffea) (4.12.2)\n",
            "Requirement already satisfied: pydantic>=2 in /usr/local/lib/python3.10/dist-packages (from correctionlib>=2.6.0->coffea) (2.9.2)\n",
            "Requirement already satisfied: rich in /usr/local/lib/python3.10/dist-packages (from correctionlib>=2.6.0->coffea) (13.9.3)\n",
            "Requirement already satisfied: click>=8.1 in /usr/local/lib/python3.10/dist-packages (from dask>=2024.3.0->dask[array]>=2024.3.0; python_version > \"3.8\"->coffea) (8.1.7)\n",
            "Requirement already satisfied: partd>=1.4.0 in /usr/local/lib/python3.10/dist-packages (from dask>=2024.3.0->dask[array]>=2024.3.0; python_version > \"3.8\"->coffea) (1.4.2)\n",
            "Requirement already satisfied: pyyaml>=5.3.1 in /usr/local/lib/python3.10/dist-packages (from dask>=2024.3.0->dask[array]>=2024.3.0; python_version > \"3.8\"->coffea) (6.0.2)\n",
            "Requirement already satisfied: toolz>=0.10.0 in /usr/local/lib/python3.10/dist-packages (from dask>=2024.3.0->dask[array]>=2024.3.0; python_version > \"3.8\"->coffea) (0.12.1)\n",
            "Collecting boost-histogram>=1.3.2 (from dask-histogram>=2024.9.1->coffea)\n",
            "  Downloading boost_histogram-1.5.0-cp310-cp310-manylinux_2_17_x86_64.manylinux2014_x86_64.whl.metadata (24 kB)\n",
            "Collecting histoprint>=2.2.0 (from hist>=2->coffea)\n",
            "  Downloading histoprint-2.5.0-py3-none-any.whl.metadata (17 kB)\n",
            "Requirement already satisfied: contourpy>=1.0.1 in /usr/local/lib/python3.10/dist-packages (from matplotlib>=3->coffea) (1.3.0)\n",
            "Requirement already satisfied: cycler>=0.10 in /usr/local/lib/python3.10/dist-packages (from matplotlib>=3->coffea) (0.12.1)\n",
            "Requirement already satisfied: fonttools>=4.22.0 in /usr/local/lib/python3.10/dist-packages (from matplotlib>=3->coffea) (4.54.1)\n",
            "Requirement already satisfied: kiwisolver>=1.0.1 in /usr/local/lib/python3.10/dist-packages (from matplotlib>=3->coffea) (1.4.7)\n",
            "Requirement already satisfied: pillow>=6.2.0 in /usr/local/lib/python3.10/dist-packages (from matplotlib>=3->coffea) (10.4.0)\n",
            "Requirement already satisfied: pyparsing>=2.3.1 in /usr/local/lib/python3.10/dist-packages (from matplotlib>=3->coffea) (3.2.0)\n",
            "Requirement already satisfied: python-dateutil>=2.7 in /usr/local/lib/python3.10/dist-packages (from matplotlib>=3->coffea) (2.8.2)\n",
            "Collecting mplhep-data>=0.0.4 (from mplhep>=0.1.18->coffea)\n",
            "  Downloading mplhep_data-0.0.4-py3-none-any.whl.metadata (3.4 kB)\n",
            "Collecting uhi>=0.2.0 (from mplhep>=0.1.18->coffea)\n",
            "  Downloading uhi-0.5.0-py3-none-any.whl.metadata (7.5 kB)\n",
            "Requirement already satisfied: llvmlite<0.44,>=0.43.0dev0 in /usr/local/lib/python3.10/dist-packages (from numba>=0.58.1->coffea) (0.43.0)\n",
            "Collecting cramjam>=2.5.0 (from uproot>=5.3.11->coffea)\n",
            "  Downloading cramjam-2.9.0-cp310-cp310-manylinux_2_17_x86_64.manylinux2014_x86_64.whl.metadata (4.9 kB)\n",
            "Collecting xxhash (from uproot>=5.3.11->coffea)\n",
            "  Downloading xxhash-3.5.0-cp310-cp310-manylinux_2_17_x86_64.manylinux2014_x86_64.whl.metadata (12 kB)\n",
            "Requirement already satisfied: aiohappyeyeballs>=2.3.0 in /usr/local/lib/python3.10/dist-packages (from aiohttp->coffea) (2.4.3)\n",
            "Requirement already satisfied: aiosignal>=1.1.2 in /usr/local/lib/python3.10/dist-packages (from aiohttp->coffea) (1.3.1)\n",
            "Requirement already satisfied: attrs>=17.3.0 in /usr/local/lib/python3.10/dist-packages (from aiohttp->coffea) (24.2.0)\n",
            "Requirement already satisfied: frozenlist>=1.1.1 in /usr/local/lib/python3.10/dist-packages (from aiohttp->coffea) (1.5.0)\n",
            "Requirement already satisfied: multidict<7.0,>=4.5 in /usr/local/lib/python3.10/dist-packages (from aiohttp->coffea) (6.1.0)\n",
            "Requirement already satisfied: yarl<2.0,>=1.12.0 in /usr/local/lib/python3.10/dist-packages (from aiohttp->coffea) (1.17.0)\n",
            "Requirement already satisfied: async-timeout<5.0,>=4.0 in /usr/local/lib/python3.10/dist-packages (from aiohttp->coffea) (4.0.3)\n",
            "Requirement already satisfied: pytz>=2020.1 in /usr/local/lib/python3.10/dist-packages (from pandas->coffea) (2024.2)\n",
            "Requirement already satisfied: tzdata>=2022.7 in /usr/local/lib/python3.10/dist-packages (from pandas->coffea) (2024.2)\n",
            "Requirement already satisfied: charset-normalizer<4,>=2 in /usr/local/lib/python3.10/dist-packages (from requests->coffea) (3.4.0)\n",
            "Requirement already satisfied: idna<4,>=2.5 in /usr/local/lib/python3.10/dist-packages (from requests->coffea) (3.10)\n",
            "Requirement already satisfied: urllib3<3,>=1.21.1 in /usr/local/lib/python3.10/dist-packages (from requests->coffea) (2.2.3)\n",
            "Requirement already satisfied: certifi>=2017.4.17 in /usr/local/lib/python3.10/dist-packages (from requests->coffea) (2024.8.30)\n",
            "Requirement already satisfied: zipp>=3.20 in /usr/local/lib/python3.10/dist-packages (from importlib-metadata>=4.13.0->awkward>=2.6.7->coffea) (3.20.2)\n",
            "Requirement already satisfied: locket in /usr/local/lib/python3.10/dist-packages (from partd>=1.4.0->dask>=2024.3.0->dask[array]>=2024.3.0; python_version > \"3.8\"->coffea) (1.0.0)\n",
            "Requirement already satisfied: annotated-types>=0.6.0 in /usr/local/lib/python3.10/dist-packages (from pydantic>=2->correctionlib>=2.6.0->coffea) (0.7.0)\n",
            "Requirement already satisfied: pydantic-core==2.23.4 in /usr/local/lib/python3.10/dist-packages (from pydantic>=2->correctionlib>=2.6.0->coffea) (2.23.4)\n",
            "Requirement already satisfied: six>=1.5 in /usr/local/lib/python3.10/dist-packages (from python-dateutil>=2.7->matplotlib>=3->coffea) (1.16.0)\n",
            "Requirement already satisfied: propcache>=0.2.0 in /usr/local/lib/python3.10/dist-packages (from yarl<2.0,>=1.12.0->aiohttp->coffea) (0.2.0)\n",
            "Requirement already satisfied: markdown-it-py>=2.2.0 in /usr/local/lib/python3.10/dist-packages (from rich->correctionlib>=2.6.0->coffea) (3.0.0)\n",
            "Requirement already satisfied: pygments<3.0.0,>=2.13.0 in /usr/local/lib/python3.10/dist-packages (from rich->correctionlib>=2.6.0->coffea) (2.18.0)\n",
            "Requirement already satisfied: mdurl~=0.1 in /usr/local/lib/python3.10/dist-packages (from markdown-it-py>=2.2.0->rich->correctionlib>=2.6.0->coffea) (0.1.2)\n",
            "Downloading coffea-2024.10.0-py3-none-any.whl (192 kB)\n",
            "\u001b[2K   \u001b[90m━━━━━━━━━━━━━━━━━━━━━━━━━━━━━━━━━━━━━━━━\u001b[0m \u001b[32m192.7/192.7 kB\u001b[0m \u001b[31m2.5 MB/s\u001b[0m eta \u001b[36m0:00:00\u001b[0m\n",
            "\u001b[?25hDownloading awkward-2.6.9-py3-none-any.whl (835 kB)\n",
            "\u001b[2K   \u001b[90m━━━━━━━━━━━━━━━━━━━━━━━━━━━━━━━━━━━━━━━━\u001b[0m \u001b[32m835.8/835.8 kB\u001b[0m \u001b[31m11.2 MB/s\u001b[0m eta \u001b[36m0:00:00\u001b[0m\n",
            "\u001b[?25hDownloading awkward_cpp-39-cp310-cp310-manylinux_2_17_x86_64.manylinux2014_x86_64.whl (636 kB)\n",
            "\u001b[2K   \u001b[90m━━━━━━━━━━━━━━━━━━━━━━━━━━━━━━━━━━━━━━━━\u001b[0m \u001b[32m636.5/636.5 kB\u001b[0m \u001b[31m15.6 MB/s\u001b[0m eta \u001b[36m0:00:00\u001b[0m\n",
            "\u001b[?25hDownloading correctionlib-2.6.4-cp310-cp310-manylinux_2_17_x86_64.manylinux2014_x86_64.whl (466 kB)\n",
            "\u001b[2K   \u001b[90m━━━━━━━━━━━━━━━━━━━━━━━━━━━━━━━━━━━━━━━━\u001b[0m \u001b[32m466.2/466.2 kB\u001b[0m \u001b[31m9.2 MB/s\u001b[0m eta \u001b[36m0:00:00\u001b[0m\n",
            "\u001b[?25hDownloading dask_awkward-2024.9.0-py3-none-any.whl (84 kB)\n",
            "\u001b[2K   \u001b[90m━━━━━━━━━━━━━━━━━━━━━━━━━━━━━━━━━━━━━━━━\u001b[0m \u001b[32m84.2/84.2 kB\u001b[0m \u001b[31m2.7 MB/s\u001b[0m eta \u001b[36m0:00:00\u001b[0m\n",
            "\u001b[?25hDownloading dask_histogram-2024.9.1-py3-none-any.whl (27 kB)\n",
            "Downloading fsspec_xrootd-0.4.0-py3-none-any.whl (13 kB)\n",
            "Downloading hist-2.8.0-py3-none-any.whl (40 kB)\n",
            "\u001b[2K   \u001b[90m━━━━━━━━━━━━━━━━━━━━━━━━━━━━━━━━━━━━━━━━\u001b[0m \u001b[32m40.5/40.5 kB\u001b[0m \u001b[31m1.2 MB/s\u001b[0m eta \u001b[36m0:00:00\u001b[0m\n",
            "\u001b[?25hDownloading mplhep-0.3.54-py3-none-any.whl (40 kB)\n",
            "\u001b[2K   \u001b[90m━━━━━━━━━━━━━━━━━━━━━━━━━━━━━━━━━━━━━━━━\u001b[0m \u001b[32m40.5/40.5 kB\u001b[0m \u001b[31m1.4 MB/s\u001b[0m eta \u001b[36m0:00:00\u001b[0m\n",
            "\u001b[?25hDownloading uproot-5.4.1-py3-none-any.whl (357 kB)\n",
            "\u001b[2K   \u001b[90m━━━━━━━━━━━━━━━━━━━━━━━━━━━━━━━━━━━━━━━━\u001b[0m \u001b[32m357.1/357.1 kB\u001b[0m \u001b[31m13.8 MB/s\u001b[0m eta \u001b[36m0:00:00\u001b[0m\n",
            "\u001b[?25hDownloading vector-1.5.2-py3-none-any.whl (182 kB)\n",
            "\u001b[2K   \u001b[90m━━━━━━━━━━━━━━━━━━━━━━━━━━━━━━━━━━━━━━━━\u001b[0m \u001b[32m182.3/182.3 kB\u001b[0m \u001b[31m6.1 MB/s\u001b[0m eta \u001b[36m0:00:00\u001b[0m\n",
            "\u001b[?25hDownloading lz4-4.3.3-cp310-cp310-manylinux_2_17_x86_64.manylinux2014_x86_64.whl (1.3 MB)\n",
            "\u001b[2K   \u001b[90m━━━━━━━━━━━━━━━━━━━━━━━━━━━━━━━━━━━━━━━━\u001b[0m \u001b[32m1.3/1.3 MB\u001b[0m \u001b[31m29.0 MB/s\u001b[0m eta \u001b[36m0:00:00\u001b[0m\n",
            "\u001b[?25hDownloading boost_histogram-1.5.0-cp310-cp310-manylinux_2_17_x86_64.manylinux2014_x86_64.whl (1.1 MB)\n",
            "\u001b[2K   \u001b[90m━━━━━━━━━━━━━━━━━━━━━━━━━━━━━━━━━━━━━━━━\u001b[0m \u001b[32m1.1/1.1 MB\u001b[0m \u001b[31m27.5 MB/s\u001b[0m eta \u001b[36m0:00:00\u001b[0m\n",
            "\u001b[?25hDownloading cramjam-2.9.0-cp310-cp310-manylinux_2_17_x86_64.manylinux2014_x86_64.whl (2.4 MB)\n",
            "\u001b[2K   \u001b[90m━━━━━━━━━━━━━━━━━━━━━━━━━━━━━━━━━━━━━━━━\u001b[0m \u001b[32m2.4/2.4 MB\u001b[0m \u001b[31m30.0 MB/s\u001b[0m eta \u001b[36m0:00:00\u001b[0m\n",
            "\u001b[?25hDownloading histoprint-2.5.0-py3-none-any.whl (16 kB)\n",
            "Downloading mplhep_data-0.0.4-py3-none-any.whl (9.1 MB)\n",
            "\u001b[2K   \u001b[90m━━━━━━━━━━━━━━━━━━━━━━━━━━━━━━━━━━━━━━━━\u001b[0m \u001b[32m9.1/9.1 MB\u001b[0m \u001b[31m43.2 MB/s\u001b[0m eta \u001b[36m0:00:00\u001b[0m\n",
            "\u001b[?25hDownloading uhi-0.5.0-py3-none-any.whl (13 kB)\n",
            "Downloading xxhash-3.5.0-cp310-cp310-manylinux_2_17_x86_64.manylinux2014_x86_64.whl (194 kB)\n",
            "\u001b[2K   \u001b[90m━━━━━━━━━━━━━━━━━━━━━━━━━━━━━━━━━━━━━━━━\u001b[0m \u001b[32m194.1/194.1 kB\u001b[0m \u001b[31m7.7 MB/s\u001b[0m eta \u001b[36m0:00:00\u001b[0m\n",
            "\u001b[?25hInstalling collected packages: xxhash, vector, uhi, mplhep-data, lz4, fsspec-xrootd, cramjam, boost-histogram, awkward-cpp, histoprint, awkward, uproot, mplhep, hist, dask-histogram, dask-awkward, correctionlib, coffea\n",
            "Successfully installed awkward-2.6.9 awkward-cpp-39 boost-histogram-1.5.0 coffea-2024.10.0 correctionlib-2.6.4 cramjam-2.9.0 dask-awkward-2024.9.0 dask-histogram-2024.9.1 fsspec-xrootd-0.4.0 hist-2.8.0 histoprint-2.5.0 lz4-4.3.3 mplhep-0.3.54 mplhep-data-0.0.4 uhi-0.5.0 uproot-5.4.1 vector-1.5.2 xxhash-3.5.0\n",
            "2024.10.0\n"
          ]
        }
      ],
      "source": [
        "try:\n",
        "  import coffea\n",
        "except ImportError as e:\n",
        "  !pip install coffea\n",
        "  import coffea\n",
        "print (coffea.__version__)"
      ]
    },
    {
      "cell_type": "code",
      "execution_count": 3,
      "metadata": {
        "id": "niEHVWlwE7Nx",
        "colab": {
          "base_uri": "https://localhost:8080/"
        },
        "outputId": "2ef8ab7e-e2bc-4dbc-e94f-8ae6be61e2d4"
      },
      "outputs": [
        {
          "output_type": "stream",
          "name": "stdout",
          "text": [
            "5.4.1\n",
            "2.6.9\n"
          ]
        }
      ],
      "source": [
        "#!pip install uproot awkward xrootd\n",
        "#!pip install fsspec-xrootd\n",
        "import uproot\n",
        "import awkward as ak\n",
        "import pandas as pd\n",
        "import numpy as np\n",
        "import matplotlib.pyplot as plt\n",
        "import vector\n",
        "import hist\n",
        "import mplhep as hep\n",
        "\n",
        "print (uproot.__version__)\n",
        "print (ak.__version__)"
      ]
    },
    {
      "cell_type": "markdown",
      "source": [
        "# Baixar o dataframe criado na Parte I"
      ],
      "metadata": {
        "id": "Z163cJRyEg4x"
      }
    },
    {
      "cell_type": "markdown",
      "source": [
        "# Abrir e explorar o arquivo ROOT usando o uproot\n"
      ],
      "metadata": {
        "id": "DP4E-zYpE6h9"
      }
    },
    {
      "cell_type": "markdown",
      "metadata": {
        "id": "SscL5EClFR48"
      },
      "source": [
        "\n",
        "* (1.) Abrir o arquivo.\n",
        "* (2.) Verificar o conteúdo do arquivo.\n",
        "* (3.) Verificar o conteúdo da tree: o número de branches, os nomes e os tipos de variáveis em cada branch."
      ]
    },
    {
      "cell_type": "code",
      "source": [
        "#Usando o output da Parte I (\"muon_data_tree.root\")\n"
      ],
      "metadata": {
        "id": "s98j_iaOIZnN"
      },
      "execution_count": 4,
      "outputs": []
    },
    {
      "cell_type": "code",
      "source": [
        "# Abrir o arquivo ROOT para leitura\n",
        "#file = uproot.open(\"muon_data_tree.root\")\n",
        "\n",
        "\n",
        "\n"
      ],
      "metadata": {
        "id": "tNCWf5Z7Lgr7"
      },
      "execution_count": 5,
      "outputs": []
    },
    {
      "cell_type": "markdown",
      "source": [
        "Plotas algumas varáveis cinemáticas do par"
      ],
      "metadata": {
        "id": "p56534Vdgrk9"
      }
    },
    {
      "cell_type": "markdown",
      "source": [
        "#*Usando o ROOT e a sua ferramenta RooFit*\n"
      ],
      "metadata": {
        "id": "SqKjIhgNHUXf"
      }
    },
    {
      "cell_type": "markdown",
      "metadata": {
        "id": "nCZupwktipKj"
      },
      "source": [
        "\n",
        "\n",
        "*   Baixar o Root e obter as dependências;\n",
        "*   Importar as funções;\n",
        "*   Com o plot da massa invariante:\n",
        "  *   Escolher um pico de sinal de física;\n",
        "  *   Os modelos para o sinal e fundo;\n",
        "  *   Ajustar aos dados;\n",
        "  *   Extrair informações;\n",
        "  *   Validar o ajuste;\n",
        "\n",
        "\n",
        "\n",
        "\n",
        "\n",
        "\n"
      ]
    },
    {
      "cell_type": "code",
      "source": [
        "#Download ROOT\n",
        "%time\n",
        "![ -f root_v6.30.04.Linux-ubuntu22.04-x86_64-gcc11.4.tar.gz ] || wget -nc https://root.cern/download/root_v6.30.04.Linux-ubuntu22.04-x86_64-gcc11.4.tar.gz\n",
        "!tar -xzf root_v6.30.04.Linux-ubuntu22.04-x86_64-gcc11.4.tar.gz"
      ],
      "metadata": {
        "id": "abezqCixYzOL",
        "collapsed": true,
        "colab": {
          "base_uri": "https://localhost:8080/"
        },
        "outputId": "09ff843f-48ef-4b23-e191-e6aafdbc1ed2"
      },
      "execution_count": 6,
      "outputs": [
        {
          "output_type": "stream",
          "name": "stdout",
          "text": [
            "CPU times: user 4 µs, sys: 1e+03 ns, total: 5 µs\n",
            "Wall time: 11 µs\n",
            "--2024-11-04 16:41:39--  https://root.cern/download/root_v6.30.04.Linux-ubuntu22.04-x86_64-gcc11.4.tar.gz\n",
            "Resolving root.cern (root.cern)... 188.184.49.144, 2001:1458:d00:55::100:c\n",
            "Connecting to root.cern (root.cern)|188.184.49.144|:443... connected.\n",
            "HTTP request sent, awaiting response... 200 OK\n",
            "Length: 307307012 (293M) [application/x-gzip]\n",
            "Saving to: ‘root_v6.30.04.Linux-ubuntu22.04-x86_64-gcc11.4.tar.gz’\n",
            "\n",
            "root_v6.30.04.Linux 100%[===================>] 293.07M  26.8MB/s    in 13s     \n",
            "\n",
            "2024-11-04 16:41:53 (23.1 MB/s) - ‘root_v6.30.04.Linux-ubuntu22.04-x86_64-gcc11.4.tar.gz’ saved [307307012/307307012]\n",
            "\n"
          ]
        }
      ]
    },
    {
      "cell_type": "code",
      "source": [
        "%time\n",
        "#Obtendo todas as dependências necessárias para executar o ROOT no Colab\n",
        "!sudo apt-get install dpkg-dev cmake g++ gcc binutils libx11-dev libxpm-dev libxft-dev libxext-dev python3 libssl-dev libafterimage0\n",
        "import sys\n",
        "sys.path.append(\"/content/root/lib\")\n",
        "import ctypes\n",
        "ctypes.cdll.LoadLibrary('/content/root/lib/libCore.so')\n",
        "ctypes.cdll.LoadLibrary('/content/root/lib/libThread.so')\n",
        "ctypes.cdll.LoadLibrary('/content/root/lib/libImt.so')\n",
        "ctypes.cdll.LoadLibrary('/content/root/lib/libRIO.so')\n",
        "ctypes.cdll.LoadLibrary('/content/root/lib/libNet.so')\n",
        "ctypes.cdll.LoadLibrary('/content/root/lib/libTree.so')\n",
        "ctypes.cdll.LoadLibrary('/content/root/lib/libMathCore.so')\n",
        "ctypes.cdll.LoadLibrary('/content/root/lib/libMatrix.so')\n",
        "ctypes.cdll.LoadLibrary('/content/root/lib/libHist.so')\n",
        "ctypes.cdll.LoadLibrary('/content/root/lib/libGraf.so')"
      ],
      "metadata": {
        "id": "j7H9hUZhZBnw",
        "collapsed": true,
        "colab": {
          "base_uri": "https://localhost:8080/"
        },
        "outputId": "a9c962bc-dfee-4420-aff2-c58df6b687e9"
      },
      "execution_count": 7,
      "outputs": [
        {
          "output_type": "stream",
          "name": "stdout",
          "text": [
            "CPU times: user 2 µs, sys: 0 ns, total: 2 µs\n",
            "Wall time: 5.25 µs\n",
            "Reading package lists... Done\n",
            "Building dependency tree... Done\n",
            "Reading state information... Done\n",
            "g++ is already the newest version (4:11.2.0-1ubuntu1).\n",
            "g++ set to manually installed.\n",
            "gcc is already the newest version (4:11.2.0-1ubuntu1).\n",
            "gcc set to manually installed.\n",
            "libxext-dev is already the newest version (2:1.3.4-1build1).\n",
            "libxext-dev set to manually installed.\n",
            "libxft-dev is already the newest version (2.3.4-1).\n",
            "cmake is already the newest version (3.22.1-1ubuntu1.22.04.2).\n",
            "libssl-dev is already the newest version (3.0.2-0ubuntu1.18).\n",
            "libx11-dev is already the newest version (2:1.7.5-1ubuntu0.3).\n",
            "libx11-dev set to manually installed.\n",
            "python3 is already the newest version (3.10.6-1~22.04.1).\n",
            "python3 set to manually installed.\n",
            "The following additional packages will be installed:\n",
            "  binutils-common binutils-x86-64-linux-gnu libbinutils libctf0 libdpkg-perl\n",
            "Suggested packages:\n",
            "  binutils-doc debian-keyring bzr\n",
            "Recommended packages:\n",
            "  fakeroot libalgorithm-merge-perl libfile-fcntllock-perl\n",
            "  liblocale-gettext-perl\n",
            "The following NEW packages will be installed:\n",
            "  libafterimage0 libxpm-dev\n",
            "The following packages will be upgraded:\n",
            "  binutils binutils-common binutils-x86-64-linux-gnu dpkg-dev libbinutils\n",
            "  libctf0 libdpkg-perl\n",
            "7 upgraded, 2 newly installed, 0 to remove and 42 not upgraded.\n",
            "Need to get 4,834 kB of archives.\n",
            "After this operation, 977 kB of additional disk space will be used.\n",
            "Get:1 http://archive.ubuntu.com/ubuntu jammy-updates/main amd64 libctf0 amd64 2.38-4ubuntu2.6 [103 kB]\n",
            "Get:2 http://archive.ubuntu.com/ubuntu jammy-updates/main amd64 binutils-x86-64-linux-gnu amd64 2.38-4ubuntu2.6 [2,326 kB]\n",
            "Get:3 http://archive.ubuntu.com/ubuntu jammy-updates/main amd64 libbinutils amd64 2.38-4ubuntu2.6 [662 kB]\n",
            "Get:4 http://archive.ubuntu.com/ubuntu jammy-updates/main amd64 binutils amd64 2.38-4ubuntu2.6 [3,200 B]\n",
            "Get:5 http://archive.ubuntu.com/ubuntu jammy-updates/main amd64 binutils-common amd64 2.38-4ubuntu2.6 [222 kB]\n",
            "Get:6 http://archive.ubuntu.com/ubuntu jammy-updates/main amd64 dpkg-dev all 1.21.1ubuntu2.3 [922 kB]\n",
            "Get:7 http://archive.ubuntu.com/ubuntu jammy-updates/main amd64 libdpkg-perl all 1.21.1ubuntu2.3 [237 kB]\n",
            "Get:8 http://archive.ubuntu.com/ubuntu jammy/universe amd64 libafterimage0 amd64 2.2.12-15 [268 kB]\n",
            "Get:9 http://archive.ubuntu.com/ubuntu jammy-updates/main amd64 libxpm-dev amd64 1:3.5.12-1ubuntu0.22.04.2 [90.7 kB]\n",
            "Fetched 4,834 kB in 1s (3,422 kB/s)\n",
            "debconf: unable to initialize frontend: Dialog\n",
            "debconf: (No usable dialog-like program is installed, so the dialog based frontend cannot be used. at /usr/share/perl5/Debconf/FrontEnd/Dialog.pm line 78, <> line 9.)\n",
            "debconf: falling back to frontend: Readline\n",
            "debconf: unable to initialize frontend: Readline\n",
            "debconf: (This frontend requires a controlling tty.)\n",
            "debconf: falling back to frontend: Teletype\n",
            "dpkg-preconfigure: unable to re-open stdin: \n",
            "(Reading database ... 123623 files and directories currently installed.)\n",
            "Preparing to unpack .../0-libctf0_2.38-4ubuntu2.6_amd64.deb ...\n",
            "Unpacking libctf0:amd64 (2.38-4ubuntu2.6) over (2.38-4ubuntu2.3) ...\n",
            "Preparing to unpack .../1-binutils-x86-64-linux-gnu_2.38-4ubuntu2.6_amd64.deb ...\n",
            "Unpacking binutils-x86-64-linux-gnu (2.38-4ubuntu2.6) over (2.38-4ubuntu2.3) ...\n",
            "Preparing to unpack .../2-libbinutils_2.38-4ubuntu2.6_amd64.deb ...\n",
            "Unpacking libbinutils:amd64 (2.38-4ubuntu2.6) over (2.38-4ubuntu2.3) ...\n",
            "Preparing to unpack .../3-binutils_2.38-4ubuntu2.6_amd64.deb ...\n",
            "Unpacking binutils (2.38-4ubuntu2.6) over (2.38-4ubuntu2.3) ...\n",
            "Preparing to unpack .../4-binutils-common_2.38-4ubuntu2.6_amd64.deb ...\n",
            "Unpacking binutils-common:amd64 (2.38-4ubuntu2.6) over (2.38-4ubuntu2.3) ...\n",
            "Preparing to unpack .../5-dpkg-dev_1.21.1ubuntu2.3_all.deb ...\n",
            "Unpacking dpkg-dev (1.21.1ubuntu2.3) over (1.21.1ubuntu2.2) ...\n",
            "Preparing to unpack .../6-libdpkg-perl_1.21.1ubuntu2.3_all.deb ...\n",
            "Unpacking libdpkg-perl (1.21.1ubuntu2.3) over (1.21.1ubuntu2.2) ...\n",
            "Selecting previously unselected package libafterimage0:amd64.\n",
            "Preparing to unpack .../7-libafterimage0_2.2.12-15_amd64.deb ...\n",
            "Unpacking libafterimage0:amd64 (2.2.12-15) ...\n",
            "Selecting previously unselected package libxpm-dev:amd64.\n",
            "Preparing to unpack .../8-libxpm-dev_1%3a3.5.12-1ubuntu0.22.04.2_amd64.deb ...\n",
            "Unpacking libxpm-dev:amd64 (1:3.5.12-1ubuntu0.22.04.2) ...\n",
            "Setting up libafterimage0:amd64 (2.2.12-15) ...\n",
            "Setting up binutils-common:amd64 (2.38-4ubuntu2.6) ...\n",
            "Setting up libxpm-dev:amd64 (1:3.5.12-1ubuntu0.22.04.2) ...\n",
            "Setting up libdpkg-perl (1.21.1ubuntu2.3) ...\n",
            "Setting up libbinutils:amd64 (2.38-4ubuntu2.6) ...\n",
            "Setting up libctf0:amd64 (2.38-4ubuntu2.6) ...\n",
            "Setting up binutils-x86-64-linux-gnu (2.38-4ubuntu2.6) ...\n",
            "Setting up binutils (2.38-4ubuntu2.6) ...\n",
            "Setting up dpkg-dev (1.21.1ubuntu2.3) ...\n",
            "Processing triggers for man-db (2.10.2-1) ...\n",
            "Processing triggers for libc-bin (2.35-0ubuntu3.4) ...\n",
            "/sbin/ldconfig.real: /usr/local/lib/libtbbbind_2_0.so.3 is not a symbolic link\n",
            "\n",
            "/sbin/ldconfig.real: /usr/local/lib/libur_adapter_level_zero.so.0 is not a symbolic link\n",
            "\n",
            "/sbin/ldconfig.real: /usr/local/lib/libur_loader.so.0 is not a symbolic link\n",
            "\n",
            "/sbin/ldconfig.real: /usr/local/lib/libtbbbind_2_5.so.3 is not a symbolic link\n",
            "\n",
            "/sbin/ldconfig.real: /usr/local/lib/libur_adapter_opencl.so.0 is not a symbolic link\n",
            "\n",
            "/sbin/ldconfig.real: /usr/local/lib/libtbb.so.12 is not a symbolic link\n",
            "\n",
            "/sbin/ldconfig.real: /usr/local/lib/libhwloc.so.15 is not a symbolic link\n",
            "\n",
            "/sbin/ldconfig.real: /usr/local/lib/libtcm.so.1 is not a symbolic link\n",
            "\n",
            "/sbin/ldconfig.real: /usr/local/lib/libtbbmalloc_proxy.so.2 is not a symbolic link\n",
            "\n",
            "/sbin/ldconfig.real: /usr/local/lib/libtbbbind.so.3 is not a symbolic link\n",
            "\n",
            "/sbin/ldconfig.real: /usr/local/lib/libumf.so.0 is not a symbolic link\n",
            "\n",
            "/sbin/ldconfig.real: /usr/local/lib/libtbbmalloc.so.2 is not a symbolic link\n",
            "\n",
            "/sbin/ldconfig.real: /usr/local/lib/libtcm_debug.so.1 is not a symbolic link\n",
            "\n"
          ]
        },
        {
          "output_type": "execute_result",
          "data": {
            "text/plain": [
              "<CDLL '/content/root/lib/libGraf.so', handle 5a96e1adfd50 at 0x7f37cebb9510>"
            ]
          },
          "metadata": {},
          "execution_count": 7
        }
      ]
    },
    {
      "cell_type": "code",
      "source": [
        "import ROOT"
      ],
      "metadata": {
        "id": "3UAc4571ZOT9",
        "colab": {
          "base_uri": "https://localhost:8080/"
        },
        "outputId": "62583235-f41c-4316-937a-cb58e2ab9f39"
      },
      "execution_count": 8,
      "outputs": [
        {
          "output_type": "stream",
          "name": "stdout",
          "text": [
            "Welcome to JupyROOT 6.30/04\n"
          ]
        }
      ]
    },
    {
      "cell_type": "code",
      "execution_count": 9,
      "metadata": {
        "id": "ZNmdKIyWRYyM"
      },
      "outputs": [],
      "source": [
        "# Importar as funções do ROOT aqui\n",
        "from ROOT import TH1F\n",
        "from ROOT import TFile\n",
        "from ROOT import TLorentzVector\n",
        "from ROOT import TLegend\n",
        "from ROOT import RooFit\n",
        "from ROOT import RooDataHist\n",
        "from ROOT import RooDataSet\n",
        "from ROOT import RooRealVar\n",
        "from ROOT import RooArgList\n",
        "from ROOT import RooArgSet\n",
        "from ROOT import RooAddPdf\n",
        "from ROOT import RooExponential\n",
        "from ROOT import RooGaussian\n",
        "from ROOT import RooPlot\n",
        "from ROOT import RooCBShape\n",
        "from ROOT import RooChi2Var\n",
        "from ROOT import TLatex\n"
      ]
    },
    {
      "cell_type": "markdown",
      "source": [
        "O comando abaixo ativa o processamento multi-thread em ROOT, o que pode acelerar operações que envolvem grandes volumes de dados."
      ],
      "metadata": {
        "id": "Fuy1sGrE_Jfm"
      }
    },
    {
      "cell_type": "code",
      "source": [
        "# Obter a variável mass_dimu a partir do DataFrame\n"
      ],
      "metadata": {
        "id": "1C9EmHkAOAQc"
      },
      "execution_count": 10,
      "outputs": []
    },
    {
      "cell_type": "code",
      "source": [
        "#f = TFile(\"muon_data_tree.root\")\n",
        "#f.ls()\n"
      ],
      "metadata": {
        "id": "_igdL-c7JEzq"
      },
      "execution_count": 11,
      "outputs": []
    },
    {
      "cell_type": "code",
      "source": [
        "#f.tree.Print()"
      ],
      "metadata": {
        "id": "os_OjwjTJNYj"
      },
      "execution_count": 12,
      "outputs": []
    },
    {
      "cell_type": "code",
      "source": [
        "#max_Events = f.tree.GetEntries()\n",
        "#max_Events"
      ],
      "metadata": {
        "id": "7ATm79XhLTka"
      },
      "execution_count": 13,
      "outputs": []
    },
    {
      "cell_type": "markdown",
      "source": [
        "O pull é uma medida de quão bem o seu modelo ajustado se alinha com os dados. Para cada bin, o pull representa a diferença entre o valor observado (dados) e o valor previsto pelo ajuste (modelo), normalizado pelo erro. Idealmente, a distribuição de pull deve ser centrada em torno de zero com um desvio padrão próximo de 1."
      ],
      "metadata": {
        "id": "oArskupFEP-x"
      }
    }
  ],
  "metadata": {
    "colab": {
      "provenance": []
    },
    "kernelspec": {
      "display_name": "Python 3",
      "name": "python3"
    },
    "language_info": {
      "name": "python"
    }
  },
  "nbformat": 4,
  "nbformat_minor": 0
}