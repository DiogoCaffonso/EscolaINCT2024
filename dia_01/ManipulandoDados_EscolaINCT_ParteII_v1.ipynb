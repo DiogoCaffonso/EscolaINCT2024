{
 "cells": [
  {
   "cell_type": "markdown",
   "metadata": {
    "id": "WfTy0OEMqfm_"
   },
   "source": [
    "\n",
    "\n",
    "---\n",
    "# Hands-On: Análise de Dados\n",
    "\n",
    "\n",
    "---\n",
    "\n",
    "\n",
    "Parte II - ROOT\n",
    "\n",
    "9. Fazer um ajuste no pico que corresponde ao méson $J/\\Psi$ uando o RooFit.\n",
    "\n",
    "10. Extrair as informações dos parâmetros.\n",
    "\n",
    "11. Validação do fit (pull e/ou $\\chi^{2}/ndof$).\n",
    "\n",
    "\n",
    "\n",
    "\n",
    "\n",
    "\n",
    "\n",
    "\n"
   ]
  },
  {
   "cell_type": "code",
   "execution_count": 1,
   "metadata": {
    "id": "zXnfUCicp3Bg"
   },
   "outputs": [],
   "source": [
    "%load_ext autoreload\n",
    "%autoreload 2"
   ]
  },
  {
   "cell_type": "markdown",
   "metadata": {
    "id": "ZFLCAt8SEBvA"
   },
   "source": [
    "# Instalar: coffea, uproot, awkward\n",
    "\n",
    "coffea, uproot, e awkward são três bibliotecas importantes para análise de dados em Física de Altas Energias (HEP), especialmente voltadas para trabalhar com arquivos ROOT, que são utilizados no contexto de experimentos no CERN.\n",
    "\n",
    "\n",
    "* [coffea](https://github.com/CoffeaTeam/coffea\n",
    ")\n",
    "\n",
    "* [uproot](https://uproot.readthedocs.io/en/latest/basic.html)\n",
    "\n",
    "*   [awkward](https://awkward-array.org/doc/main/)\n",
    "\n",
    "* Ferramentas adicionais:\n",
    "    * **pandas**: biblioteca para estruturas de dados tabulares e ferramentas de análise em Python.( [documentação do pandas](https://pandas.pydata.org/docs/getting_started/index.html))\n",
    "\n",
    "  * **numpy**: fornece cálculos numéricos, como criação de histogramas.\n",
    "\n",
    "  * **matplotlib**: ferramenta comum para criar gráficos, figuras, imagens, visualizações.\n",
    "\n",
    "  * **vector**: é especializada no trabalho com vetores em 2D, 3D e vetores de Lorentz. Esta biblioteca foi projetada para funcionar com versões do Python 3.8 ou superiores.([documentação do vector](https://vector.readthedocs.io/en/latest/))\n",
    "\n"
   ]
  },
  {
   "cell_type": "code",
   "execution_count": 2,
   "metadata": {
    "colab": {
     "base_uri": "https://localhost:8080/"
    },
    "id": "rTBqvC9kJ90T",
    "outputId": "d0758ef6-89c9-4ba1-9f74-6e9e99e81725"
   },
   "outputs": [
    {
     "name": "stdout",
     "output_type": "stream",
     "text": [
      "2024.10.0\n"
     ]
    }
   ],
   "source": [
    "try:\n",
    "  import coffea\n",
    "except ImportError as e:\n",
    "  !pip install coffea\n",
    "  import coffea\n",
    "print (coffea.__version__)"
   ]
  },
  {
   "cell_type": "code",
   "execution_count": 3,
   "metadata": {
    "colab": {
     "base_uri": "https://localhost:8080/"
    },
    "id": "niEHVWlwE7Nx",
    "outputId": "0d53008b-e0d2-48cb-e015-5de42f9d916b"
   },
   "outputs": [
    {
     "name": "stdout",
     "output_type": "stream",
     "text": [
      "5.4.1\n",
      "2.6.9\n"
     ]
    }
   ],
   "source": [
    "#!pip install uproot awkward xrootd\n",
    "#!pip install fsspec-xrootd\n",
    "import uproot\n",
    "import awkward as ak\n",
    "import pandas as pd\n",
    "import numpy as np\n",
    "import matplotlib.pyplot as plt\n",
    "import vector\n",
    "import hist\n",
    "import mplhep as hep\n",
    "\n",
    "print (uproot.__version__)\n",
    "print (ak.__version__)"
   ]
  },
  {
   "cell_type": "markdown",
   "metadata": {
    "id": "Z163cJRyEg4x"
   },
   "source": [
    "# Baixar o dataframe criado na Parte I"
   ]
  },
  {
   "cell_type": "markdown",
   "metadata": {
    "id": "DP4E-zYpE6h9"
   },
   "source": [
    "# Abrir e explorar o arquivo ROOT usando o uproot\n"
   ]
  },
  {
   "cell_type": "markdown",
   "metadata": {
    "id": "SscL5EClFR48"
   },
   "source": [
    "\n",
    "* (1.) Abrir o arquivo.\n",
    "* (2.) Verificar o conteúdo do arquivo.\n",
    "* (3.) Verificar o conteúdo da TTree: o número de branches, os nomes e os tipos de variáveis em cada branch."
   ]
  },
  {
   "cell_type": "code",
   "execution_count": 4,
   "metadata": {
    "id": "s98j_iaOIZnN"
   },
   "outputs": [],
   "source": [
    "#Usando o output da Parte I (\"muon_data_tree.root\")\n",
    "#!wget -nc --no-check-certificate https://eliza.web.cern.ch/eliza/HandsOn/muon_data_tree.root\n"
   ]
  },
  {
   "cell_type": "code",
   "execution_count": 5,
   "metadata": {
    "colab": {
     "base_uri": "https://localhost:8080/"
    },
    "id": "tNCWf5Z7Lgr7",
    "outputId": "e284d0e9-5d3b-475d-dcdf-c8dea05468be"
   },
   "outputs": [
    {
     "name": "stdout",
     "output_type": "stream",
     "text": [
      "['tree;1']\n",
      "['num_final_events', 'muon1_pt', 'muon1_eta', 'muon1_phi', 'muon2_pt', 'muon2_eta', 'muon2_phi', 'pt_dimu', 'eta_dimu', 'mass_dimu']\n",
      "    muon1_pt  muon1_eta  muon1_phi    pt_dimu\n",
      "0  52.556774  -1.429199  -2.723145  36.169895\n",
      "1  50.203129  -0.656128   1.626221  14.304790\n",
      "2  53.714878   0.159729  -1.947510  29.602020\n",
      "3  48.502796  -1.802002   1.400146  13.670808\n",
      "4  43.287487  -0.061668   1.378662   3.742076\n"
     ]
    }
   ],
   "source": [
    "# Abrir o arquivo ROOT para leitura\n",
    "file = uproot.open(\"muon_data_tree.root\")\n",
    "\n",
    "\n",
    "print(file.keys())\n",
    "tree = file[\"tree\"]\n",
    "print(tree.keys())  # Lista as branches (colunas)\n",
    "\n",
    "# Ler algumas entradas para verificar se os dados estão corretos\n",
    "df_r = tree.arrays([\"muon1_pt\", \"muon1_eta\", \"muon1_phi\", \"pt_dimu\"], library=\"pd\")  # Carregar em um DataFrame\n",
    "print(df_r.head())  # Visualizar as primeiras linhas do DataFrame\n"
   ]
  },
  {
   "cell_type": "code",
   "execution_count": 6,
   "metadata": {
    "id": "Q94kYqkN40Jw"
   },
   "outputs": [],
   "source": [
    "#df_r = tree.arrays(tree.keys(), entry_stop=10000, library='pd')\n",
    "#df_r"
   ]
  },
  {
   "cell_type": "code",
   "execution_count": 7,
   "metadata": {
    "colab": {
     "base_uri": "https://localhost:8080/"
    },
    "id": "-XHuklJb6s5b",
    "outputId": "82fda341-3d29-448e-afce-d23b277e128b"
   },
   "outputs": [
    {
     "data": {
      "text/plain": [
       "402481"
      ]
     },
     "execution_count": 7,
     "metadata": {},
     "output_type": "execute_result"
    }
   ],
   "source": [
    "len(df_r)"
   ]
  },
  {
   "cell_type": "markdown",
   "metadata": {
    "id": "p56534Vdgrk9"
   },
   "source": [
    "Plotas algumas varáveis cinemáticas do par"
   ]
  },
  {
   "cell_type": "code",
   "execution_count": 8,
   "metadata": {
    "colab": {
     "base_uri": "https://localhost:8080/",
     "height": 70
    },
    "id": "qzsInLRd6rBy",
    "outputId": "8cf18bc0-1281-47ab-a0cc-ab2bb9e859bf"
   },
   "outputs": [
    {
     "data": {
      "application/vnd.google.colaboratory.intrinsic+json": {
       "type": "string"
      },
      "text/plain": [
       "\"\\nplt.figure()\\nplt.hist(pt_dimu, bins=100, range=(0, 200), histtype='step', color='blue', label=r'$p_T$ (GeV)')\\nplt.xlabel(r'$p_{T}^{\\\\mu^+\\\\mu^-} [GeV]/c$')\\nplt.ylabel('Events')\\nplt.yscale('log')\\nplt.show()\\n\""
      ]
     },
     "execution_count": 8,
     "metadata": {},
     "output_type": "execute_result"
    }
   ],
   "source": [
    "'''\n",
    "plt.figure()\n",
    "plt.hist(pt_dimu, bins=100, range=(0, 200), histtype='step', color='blue', label=r'$p_T$ (GeV)')\n",
    "plt.xlabel(r'$p_{T}^{\\mu^+\\mu^-} [GeV]/c$')\n",
    "plt.ylabel('Events')\n",
    "plt.yscale('log')\n",
    "plt.show()\n",
    "'''"
   ]
  },
  {
   "cell_type": "code",
   "execution_count": 9,
   "metadata": {
    "colab": {
     "base_uri": "https://localhost:8080/",
     "height": 70
    },
    "id": "2dkiChSi4VnZ",
    "outputId": "ea0102ee-87f6-4810-e8b9-b8452d6714e7"
   },
   "outputs": [
    {
     "data": {
      "application/vnd.google.colaboratory.intrinsic+json": {
       "type": "string"
      },
      "text/plain": [
       "\"\\nplt.figure()\\nplt.hist(mass_dimu, bins=3000, range=(0.25, 300), histtype='step', color='blue', linewidth=1.5)\\nplt.xlabel(r'M$_{\\\\mu^+\\\\mu^-}$ [GeV]/$c^{2}$')\\nplt.ylabel('Events')\\nplt.yscale('log')\\nplt.xscale('log')\\nplt.show()\\n\""
      ]
     },
     "execution_count": 9,
     "metadata": {},
     "output_type": "execute_result"
    }
   ],
   "source": [
    "#\n",
    "'''\n",
    "plt.figure()\n",
    "plt.hist(mass_dimu, bins=3000, range=(0.25, 300), histtype='step', color='blue', linewidth=1.5)\n",
    "plt.xlabel(r'M$_{\\mu^+\\mu^-}$ [GeV]/$c^{2}$')\n",
    "plt.ylabel('Events')\n",
    "plt.yscale('log')\n",
    "plt.xscale('log')\n",
    "plt.show()\n",
    "'''"
   ]
  },
  {
   "cell_type": "markdown",
   "metadata": {
    "id": "SqKjIhgNHUXf"
   },
   "source": [
    "#*Usando o ROOT e a sua ferramenta RooFit*\n"
   ]
  },
  {
   "cell_type": "markdown",
   "metadata": {
    "id": "nCZupwktipKj"
   },
   "source": [
    "\n",
    "\n",
    "*   Baixar o Root e obter as dependências;\n",
    "*   Importar as funções;\n",
    "*   Com o plot da massa invariante:\n",
    "  *   Escolher um pico de sinal de física;\n",
    "  *   Os modelos para o sinal e fundo;\n",
    "  *   Ajustar aos dados;\n",
    "  *   Extrair informações;\n",
    "  *   Validar o ajuste;\n",
    "\n",
    "\n",
    "\n",
    "\n",
    "\n",
    "\n"
   ]
  },
  {
   "cell_type": "code",
   "execution_count": 10,
   "metadata": {
    "colab": {
     "base_uri": "https://localhost:8080/"
    },
    "collapsed": true,
    "id": "abezqCixYzOL",
    "jupyter": {
     "outputs_hidden": true
    },
    "outputId": "d34471c0-a056-4348-9df0-0b03273447e7"
   },
   "outputs": [
    {
     "name": "stdout",
     "output_type": "stream",
     "text": [
      "CPU times: user 4 µs, sys: 1 µs, total: 5 µs\n",
      "Wall time: 8.34 µs\n"
     ]
    }
   ],
   "source": [
    "%time\n",
    "#Download ROOT\n",
    "![ -f root_v6.30.04.Linux-ubuntu22.04-x86_64-gcc11.4.tar.gz ] || wget -nc https://root.cern/download/root_v6.30.04.Linux-ubuntu22.04-x86_64-gcc11.4.tar.gz\n",
    "!tar -xzf root_v6.30.04.Linux-ubuntu22.04-x86_64-gcc11.4.tar.gz"
   ]
  },
  {
   "cell_type": "code",
   "execution_count": 11,
   "metadata": {
    "colab": {
     "base_uri": "https://localhost:8080/"
    },
    "collapsed": true,
    "id": "j7H9hUZhZBnw",
    "jupyter": {
     "outputs_hidden": true
    },
    "outputId": "27ac8ab1-7b18-41e9-bf4c-360358fbd9b6"
   },
   "outputs": [
    {
     "name": "stdout",
     "output_type": "stream",
     "text": [
      "CPU times: user 3 µs, sys: 1 µs, total: 4 µs\n",
      "Wall time: 5.72 µs\n",
      "Reading package lists... Done\n",
      "Building dependency tree... Done\n",
      "Reading state information... Done\n",
      "g++ is already the newest version (4:11.2.0-1ubuntu1).\n",
      "gcc is already the newest version (4:11.2.0-1ubuntu1).\n",
      "libxext-dev is already the newest version (2:1.3.4-1build1).\n",
      "libxft-dev is already the newest version (2.3.4-1).\n",
      "libafterimage0 is already the newest version (2.2.12-15).\n",
      "binutils is already the newest version (2.38-4ubuntu2.6).\n",
      "cmake is already the newest version (3.22.1-1ubuntu1.22.04.2).\n",
      "dpkg-dev is already the newest version (1.21.1ubuntu2.3).\n",
      "libssl-dev is already the newest version (3.0.2-0ubuntu1.18).\n",
      "libx11-dev is already the newest version (2:1.7.5-1ubuntu0.3).\n",
      "libxpm-dev is already the newest version (1:3.5.12-1ubuntu0.22.04.2).\n",
      "python3 is already the newest version (3.10.6-1~22.04.1).\n",
      "0 upgraded, 0 newly installed, 0 to remove and 42 not upgraded.\n"
     ]
    },
    {
     "data": {
      "text/plain": [
       "<CDLL '/content/root/lib/libGraf.so', handle 5b1f29900f30 at 0x7e35b7fbe980>"
      ]
     },
     "execution_count": 11,
     "metadata": {},
     "output_type": "execute_result"
    }
   ],
   "source": [
    "%time\n",
    "#Obtendo todas as dependências necessárias para executar o ROOT no Colab\n",
    "!sudo apt-get install dpkg-dev cmake g++ gcc binutils libx11-dev libxpm-dev libxft-dev libxext-dev python3 libssl-dev libafterimage0\n",
    "import sys\n",
    "sys.path.append(\"/content/root/lib\")\n",
    "import ctypes\n",
    "ctypes.cdll.LoadLibrary('/content/root/lib/libCore.so')\n",
    "ctypes.cdll.LoadLibrary('/content/root/lib/libThread.so')\n",
    "ctypes.cdll.LoadLibrary('/content/root/lib/libImt.so')\n",
    "ctypes.cdll.LoadLibrary('/content/root/lib/libRIO.so')\n",
    "ctypes.cdll.LoadLibrary('/content/root/lib/libNet.so')\n",
    "ctypes.cdll.LoadLibrary('/content/root/lib/libTree.so')\n",
    "ctypes.cdll.LoadLibrary('/content/root/lib/libMathCore.so')\n",
    "ctypes.cdll.LoadLibrary('/content/root/lib/libMatrix.so')\n",
    "ctypes.cdll.LoadLibrary('/content/root/lib/libHist.so')\n",
    "ctypes.cdll.LoadLibrary('/content/root/lib/libGraf.so')"
   ]
  },
  {
   "cell_type": "code",
   "execution_count": 12,
   "metadata": {
    "colab": {
     "base_uri": "https://localhost:8080/"
    },
    "id": "3UAc4571ZOT9",
    "outputId": "b1af6673-acb6-4ed6-c961-e2aa35ff6933"
   },
   "outputs": [
    {
     "name": "stdout",
     "output_type": "stream",
     "text": [
      "Welcome to JupyROOT 6.30/04\n"
     ]
    }
   ],
   "source": [
    "import ROOT"
   ]
  },
  {
   "cell_type": "code",
   "execution_count": 13,
   "metadata": {
    "id": "ZNmdKIyWRYyM"
   },
   "outputs": [],
   "source": [
    "# Importar as funções do ROOT aqui\n",
    "from ROOT import TH1F\n",
    "from ROOT import TFile\n",
    "from ROOT import TLorentzVector\n",
    "from ROOT import TLegend\n",
    "from ROOT import RooFit\n",
    "from ROOT import RooDataHist\n",
    "from ROOT import RooDataSet\n",
    "from ROOT import RooRealVar\n",
    "from ROOT import RooArgList\n",
    "from ROOT import RooArgSet\n",
    "from ROOT import RooAddPdf\n",
    "from ROOT import RooExponential\n",
    "from ROOT import RooGaussian\n",
    "from ROOT import RooPlot\n",
    "from ROOT import RooCBShape\n",
    "from ROOT import RooChi2Var\n",
    "from ROOT import TLatex\n"
   ]
  },
  {
   "cell_type": "markdown",
   "metadata": {
    "id": "Fuy1sGrE_Jfm"
   },
   "source": [
    "O comando abaixo ativa o processamento multi-thread em ROOT, o que pode acelerar operações que envolvem grandes volumes de dados."
   ]
  },
  {
   "cell_type": "code",
   "execution_count": 14,
   "metadata": {
    "id": "TCQ7lQAjRi19"
   },
   "outputs": [],
   "source": [
    "ROOT.ROOT.EnableImplicitMT(4)  # Para usar 4 threads ou"
   ]
  },
  {
   "cell_type": "code",
   "execution_count": 15,
   "metadata": {
    "colab": {
     "base_uri": "https://localhost:8080/"
    },
    "id": "SztWVO5hOSZJ",
    "outputId": "ef5af7f6-fe66-4b68-c32e-56dd7e480c1c"
   },
   "outputs": [
    {
     "name": "stdout",
     "output_type": "stream",
     "text": [
      "    muon1_pt  muon1_eta  muon1_phi    pt_dimu  mass_dimu\n",
      "0  52.556774  -1.429199  -2.723145  36.169895  91.076653\n",
      "1  50.203129  -0.656128   1.626221  14.304790  89.062195\n",
      "2  53.714878   0.159729  -1.947510  29.602020  91.994675\n",
      "3  48.502796  -1.802002   1.400146  13.670808  91.714264\n",
      "4  43.287487  -0.061668   1.378662   3.742076  90.336868\n"
     ]
    }
   ],
   "source": [
    "df_r = tree.arrays([\"muon1_pt\", \"muon1_eta\", \"muon1_phi\", \"pt_dimu\", \"mass_dimu\"], library=\"pd\")  # Carregar em um DataFrame\n",
    "print(df_r.head())  # Visualizar as primeiras linhas do DataFrame\n"
   ]
  },
  {
   "cell_type": "code",
   "execution_count": 16,
   "metadata": {
    "id": "1C9EmHkAOAQc"
   },
   "outputs": [],
   "source": [
    "# Obter a variável mass_dimu a partir do DataFrame\n",
    "mass_dimu = df_r[\"mass_dimu\"]"
   ]
  },
  {
   "cell_type": "code",
   "execution_count": 17,
   "metadata": {
    "colab": {
     "base_uri": "https://localhost:8080/",
     "height": 649
    },
    "id": "r1mKTNkKiU3V",
    "outputId": "0d654c65-e0a4-4a0b-dcf0-531b6ebfffbb"
   },
   "outputs": [
    {
     "name": "stderr",
     "output_type": "stream",
     "text": [
      "Info in <TCanvas::Print>: png file invariant_mass.png has been created\n"
     ]
    },
    {
     "data": {
      "image/png": "[encoded data removed]",
      "text/plain": [
       "<IPython.core.display.Image object>"
      ]
     },
     "metadata": {},
     "output_type": "display_data"
    }
   ],
   "source": [
    "# Nome único para cada execução para evitar conflitos\n",
    "hist_name = \"invariant_mass_histogram\"\n",
    "canvas_name = \"invariant_mass_canvas\"\n",
    "\n",
    "# Verifica e remove o histograma existente\n",
    "if ROOT.gROOT.FindObject(hist_name):\n",
    "    ROOT.gROOT.FindObject(hist_name).Delete()\n",
    "\n",
    "# Verifica e remove o canvas existente\n",
    "if ROOT.gROOT.FindObject(canvas_name):\n",
    "    ROOT.gROOT.FindObject(canvas_name).Delete()\n",
    "\n",
    "# Criação do histograma com ROOT\n",
    "bins = 30000\n",
    "low = 0.25\n",
    "up = 300.0\n",
    "hist = ROOT.TH1F(hist_name, \";Mass_{#mu#mu}(GeV/c^2);N_{Events}\",bins , low, up)\n",
    "\n",
    "hist.GetXaxis().SetTitleSize(0.042)\n",
    "hist.GetYaxis().SetTitleSize(0.042)\n",
    "hist.SetStats(False)\n",
    "\n",
    "# Preenchendo o histograma com os dados de massa invariante\n",
    "for mass in mass_dimu:\n",
    "    hist.Fill(mass)\n",
    "\n",
    "# Criação do canvas e desenho do histograma\n",
    "ROOT.gStyle.SetOptStat(0)\n",
    "ROOT.gStyle.SetTextFont(42)\n",
    "canvas = ROOT.TCanvas(canvas_name, \"Invariant Mass\", 800, 700)\n",
    "#canvas1.SetLogx()\n",
    "#canvas1.SetLogy();\n",
    "hist.Draw()\n",
    "\n",
    "# Atualiza o canvas para garantir que o gráfico seja exibido\n",
    "canvas.Update()\n",
    "'''\n",
    "label = ROOT.TLatex()\n",
    "label.SetTextAlign(22)\n",
    "#label.DrawLatex(0.55, 3.0e3, \"#eta\")\n",
    "label.DrawLatex(0.77, 3.0e3, \"#rho,#omega\")\n",
    "label.DrawLatex(1.20, 4.0e3, \"#phi\")\n",
    "label.DrawLatex(4.00, 7.0e3, \"J/#psi\")\n",
    "label.DrawLatex(4.60, 1.0e3, \"#psi'\")\n",
    "label.DrawLatex(13.0, 0.9e3, \"Y(1,2,3S)\")\n",
    "label.DrawLatex(91.0, 6.5e3, \"Z\")\n",
    "label.SetNDC(True)\n",
    "label.SetTextAlign(11)\n",
    "label.SetTextSize(0.03)\n",
    "label.DrawLatex(0.10, 0.92, \"#bf{CMS Open Data}\")\n",
    "label.SetTextAlign(31)\n",
    "label.DrawLatex(0.90, 0.92, \"#sqrt{s} = 13 TeV, L_{int} = 4.7 fb^{-1}\");\n",
    "'''\n",
    "\n",
    "canvas.Draw()\n",
    "\n",
    "# Caso queira salvar o resultado\n",
    "canvas.SaveAs(\"invariant_mass.png\")"
   ]
  },
  {
   "cell_type": "code",
   "execution_count": 18,
   "metadata": {
    "id": "_igdL-c7JEzq"
   },
   "outputs": [],
   "source": [
    "#f = TFile(\"muon_data_tree.root\")\n",
    "#f.ls()\n"
   ]
  },
  {
   "cell_type": "code",
   "execution_count": 19,
   "metadata": {
    "id": "os_OjwjTJNYj"
   },
   "outputs": [],
   "source": [
    "#f.tree.Print()"
   ]
  },
  {
   "cell_type": "code",
   "execution_count": 20,
   "metadata": {
    "id": "7ATm79XhLTka"
   },
   "outputs": [],
   "source": [
    "#max_Events = f.tree.GetEntries()\n",
    "#max_Events"
   ]
  },
  {
   "cell_type": "code",
   "execution_count": 21,
   "metadata": {
    "colab": {
     "base_uri": "https://localhost:8080/",
     "height": 139
    },
    "id": "vgmszv9ViTmc",
    "outputId": "4ad95cf3-91a5-41f8-d06d-08374d37c69e"
   },
   "outputs": [
    {
     "data": {
      "application/vnd.google.colaboratory.intrinsic+json": {
       "type": "string"
      },
      "text/plain": [
       "'\\nhist2 = ROOT.TH1F(\"\", \";Mass_{#mu#mu}(GeV/c^2);N_{Events}\",bins , low, up)\\n\\nhist2.GetXaxis().SetTitleSize(0.040)\\nhist2.GetYaxis().SetTitleSize(0.040)\\nhist2.SetStats(False)\\n\\n# Preenchendo o histograma com os dados de massa invariante\\nfor i, mass in enumerate(f.tree):\\n    hist2.Fill(mass.mass_dimu)\\n    if i>max_Events:\\n      break\\n\\n# Criação do canvas e desenho do histograma\\ncanvas2 = ROOT.TCanvas(\"canvas2\", \"Invariant Mass\", 800, 700)\\n\\nhist2.Draw()\\n# Atualiza o canvas para garantir que o gráfico seja exibido\\ncanvas2.Update()\\n'"
      ]
     },
     "execution_count": 21,
     "metadata": {},
     "output_type": "execute_result"
    }
   ],
   "source": [
    "'''\n",
    "hist2 = ROOT.TH1F(\"\", \";Mass_{#mu#mu}(GeV/c^2);N_{Events}\",bins , low, up)\n",
    "\n",
    "hist2.GetXaxis().SetTitleSize(0.040)\n",
    "hist2.GetYaxis().SetTitleSize(0.040)\n",
    "hist2.SetStats(False)\n",
    "\n",
    "# Preenchendo o histograma com os dados de massa invariante\n",
    "for i, mass in enumerate(f.tree):\n",
    "    hist2.Fill(mass.mass_dimu)\n",
    "    if i>max_Events:\n",
    "      break\n",
    "\n",
    "# Criação do canvas e desenho do histograma\n",
    "canvas2 = ROOT.TCanvas(\"canvas2\", \"Invariant Mass\", 800, 700)\n",
    "\n",
    "hist2.Draw()\n",
    "# Atualiza o canvas para garantir que o gráfico seja exibido\n",
    "canvas2.Update()\n",
    "'''"
   ]
  },
  {
   "cell_type": "code",
   "execution_count": 22,
   "metadata": {
    "colab": {
     "base_uri": "https://localhost:8080/"
    },
    "id": "zMYAmMUVtYY4",
    "outputId": "d5670ad0-5669-4b4a-f066-42f9f5fad16c"
   },
   "outputs": [
    {
     "name": "stdout",
     "output_type": "stream",
     "text": [
      "7\n",
      "[#1] INFO:DataHandling -- RooDataHist::adjustBinning(data): fit range of variable mass expanded to nearest bin boundaries: [2.9,3.3] --> [2.89779,3.30745]\n"
     ]
    }
   ],
   "source": [
    "#Configurar os limites da massa do pico escolhido, como exemplos usaremos o pico do J/Psi\n",
    "#Com o hist sem o log em y\n",
    "jpsi_pdg_mass =3.0969 #3096.900/1000\n",
    "m_min = 2.9\n",
    "m_max = 3.3\n",
    "jpsi_bins = int((m_max - m_min)/0.05)\n",
    "print(jpsi_bins)\n",
    "\n",
    "# Definindo a variável de massa para RooFit\n",
    "#Create a Mass variable that RooFit can use, and importing the relevant dataset\n",
    "mass = ROOT.RooRealVar(\"mass\", \"m_{#mu^{+}#mu^{-}}\", m_min, m_max, \"GeV/c^{2}\")\n",
    "# Convertendo o histograma em um dataset do RooFit\n",
    "data = ROOT.RooDataHist(\"data\", \"dataset with mass\", ROOT.RooArgList(mass), hist)\n"
   ]
  },
  {
   "cell_type": "code",
   "execution_count": 23,
   "metadata": {
    "id": "LF3j6jUIiTjH"
   },
   "outputs": [],
   "source": [
    "## Sinal PDF : Crystal Ball + Gaussian\n",
    "frac_gauss = ROOT.RooRealVar(\"frac_gauss\", \"\", 0.4, 0.0, 1.0)\n",
    "mean = ROOT.RooRealVar(\"mean\", \"\",jpsi_pdg_mass , m_min, m_max)\n",
    "sigma_gauss = ROOT.RooRealVar(\"sigma gauss\", \"\",0.019 , 0.000001, 1.0)\n",
    "\n",
    "frac_cb = ROOT.RooRealVar(\"frac_cb\", \"\", 0.6, 0.0, 1.0)\n",
    "sigma_cb = ROOT.RooRealVar(\"sigma cb\", \"\",0.019 , 0.000001, 1.0)\n",
    "alpha = ROOT.RooRealVar(\"alpha\", \"\",1.4 , 0.0, 10.0)\n",
    "n = ROOT.RooRealVar(\"n\", \"\", 20 , 0, 150)\n",
    "n.setConstant(True)\n",
    "\n",
    "signal1 = ROOT.RooGaussian(\"gauss\", \"\", mass, mean, sigma_gauss)\n",
    "signal2 = ROOT.RooCBShape(\"crystal ball\", \"\", mass, mean, sigma_cb,alpha,n)\n"
   ]
  },
  {
   "cell_type": "code",
   "execution_count": 24,
   "metadata": {
    "id": "1My_vuzNXUHy"
   },
   "outputs": [],
   "source": [
    "#Background PDF Model\n",
    "exp_c0 = RooRealVar(\"exp_c0\", \"\", -3,-5,5)\n",
    "bkg = ROOT.RooExponential(\"bkg\", \"\",mass,exp_c0)\n",
    "\n"
   ]
  },
  {
   "cell_type": "code",
   "execution_count": 25,
   "metadata": {
    "id": "XezSO4YHX9e9"
   },
   "outputs": [],
   "source": [
    "model = ROOT.RooAddPdf(\"model\", \"\", ROOT.RooArgList(signal1,signal2,bkg),ROOT.RooArgList(frac_gauss,frac_cb), ROOT.kTRUE)"
   ]
  },
  {
   "cell_type": "code",
   "execution_count": 26,
   "metadata": {
    "colab": {
     "base_uri": "https://localhost:8080/"
    },
    "id": "pfP_8nzVYsWu",
    "outputId": "135a8eba-7c1d-43e3-d86f-62ca7bcab01c"
   },
   "outputs": [
    {
     "name": "stdout",
     "output_type": "stream",
     "text": [
      "[#0] ERROR:Integration --  RooNumIntFactory::Init : libRooFitMore cannot be loaded. GSL integrators will not beavailable ! \n",
      "[#1] INFO:Minimization -- RooAbsMinimizerFcn::setOptimizeConst: activating const optimization\n",
      "[#1] INFO:Minimization --  The following expressions will be evaluated in cache-and-track mode: (gauss,crystal ball,bkg)\n",
      "Minuit2Minimizer: Minimize with max-calls 3500 convergence for edm < 1 strategy 1\n",
      "Minuit2Minimizer : Valid minimum - status = 0\n",
      "FVAL  = -8467.16496716641814\n",
      "Edm   = 6.41661489027254992e-05\n",
      "Nfcn  = 446\n",
      "alpha\t  = 1.10009\t +/-  0.15264\t(limited)\n",
      "exp_c0\t  = -0.959646\t +/-  0.282613\t(limited)\n",
      "frac_cb\t  = 0.598532\t +/-  0.0672619\t(limited)\n",
      "frac_gauss\t  = 0.439045\t +/-  0.0814887\t(limited)\n",
      "mean\t  = 3.0939\t +/-  0.000819427\t(limited)\n",
      "sigma cb\t  = 0.022967\t +/-  0.00244335\t(limited)\n",
      "sigma gauss\t  = 0.0442406\t +/-  0.00246305\t(limited)\n",
      "[#1] INFO:Minimization -- RooAbsMinimizerFcn::setOptimizeConst: deactivating const optimization\n"
     ]
    },
    {
     "name": "stderr",
     "output_type": "stream",
     "text": [
      "cling::DynamicLibraryManager::loadLibrary(): libgsl.so.27: cannot open shared object file: No such file or directory\n",
      "Info in <Minuit2>: MnSeedGenerator Computing seed using NumericalGradient calculator\n",
      "Info in <Minuit2>: MnSeedGenerator Initial state: FCN =      -7634.385179 Edm =       3541.012602 NCalls =     29\n",
      "Info in <Minuit2>: NegativeG2LineSearch Doing a NegativeG2LineSearch since one of the G2 component is negative\n",
      "Info in <Minuit2>: MnSeedGenerator Negative G2 found - new state: \n",
      "  Minimum value : -7962.394627\n",
      "  Edm           : 1322.898683\n",
      "  Internal parameters:\t[     -1.137888204    -0.6435011088     0.2013579208    -0.2013579208   -0.01550062071     -1.294241998     -1.294241998]\t\n",
      "  Internal gradient  :\t[       253.358997     -284.7008263      379.8827161      458.1292802     -2694.831921     -3344.666881     -7267.468764]\t\n",
      "  Internal covariance matrix:\n",
      "[[  0.00016711813              0              0              0              0              0              0]\n",
      " [              0     0.01881103              0              0              0              0              0]\n",
      " [              0              0   0.0013928049              0              0              0              0]\n",
      " [              0              0              0   0.0012105073              0              0              0]\n",
      " [              0              0              0              0   1.158487e-05              0              0]\n",
      " [              0              0              0              0              0  0.00011202817              0]\n",
      " [              0              0              0              0              0              0  3.7180315e-05]]]\n",
      "Info in <Minuit2>: MnSeedGenerator Initial state  \n",
      "  Minimum value : -7962.394627\n",
      "  Edm           : 1322.898683\n",
      "  Internal parameters:\t[     -1.137888204    -0.6435011088     0.2013579208    -0.2013579208   -0.01550062071     -1.294241998     -1.294241998]\t\n",
      "  Internal gradient  :\t[       253.358997     -284.7008263      379.8827161      458.1292802     -2694.831921     -3344.666881     -7267.468764]\t\n",
      "  Internal covariance matrix:\n",
      "[[  0.00016711813              0              0              0              0              0              0]\n",
      " [              0     0.01881103              0              0              0              0              0]\n",
      " [              0              0   0.0013928049              0              0              0              0]\n",
      " [              0              0              0   0.0012105073              0              0              0]\n",
      " [              0              0              0              0   1.158487e-05              0              0]\n",
      " [              0              0              0              0              0  0.00011202817              0]\n",
      " [              0              0              0              0              0              0  3.7180315e-05]]]\n",
      "Info in <Minuit2>: VariableMetricBuilder Start iterating until Edm is < 0.001 with call limit = 3500\n",
      "Info in <Minuit2>: VariableMetricBuilder    0 - FCN =      -7962.394627 Edm =       1322.898683 NCalls =     56\n",
      "Info in <Minuit2>: VariableMetricBuilder    1 - FCN =      -8297.396859 Edm =       273.7606751 NCalls =     72\n",
      "Info in <Minuit2>: VariableMetricBuilder    2 - FCN =      -8434.364758 Edm =        28.1836859 NCalls =     90\n",
      "Info in <Minuit2>: VariableMetricBuilder    3 - FCN =      -8446.798966 Edm =       2.606681959 NCalls =    106\n",
      "Info in <Minuit2>: VariableMetricBuilder    4 - FCN =      -8451.493525 Edm =      0.3798213563 NCalls =    122\n",
      "Info in <Minuit2>: VariableMetricBuilder    5 - FCN =       -8455.07579 Edm =      0.8638868843 NCalls =    141\n",
      "Info in <Minuit2>: VariableMetricBuilder    6 - FCN =      -8456.549747 Edm =      0.2730778571 NCalls =    157\n",
      "Info in <Minuit2>: VariableMetricBuilder    7 - FCN =       -8456.80068 Edm =      0.3334819439 NCalls =    172\n",
      "Info in <Minuit2>: VariableMetricBuilder    8 - FCN =      -8461.892555 Edm =       4.318778627 NCalls =    196\n",
      "Info in <Minuit2>: VariableMetricBuilder    9 - FCN =      -8461.958321 Edm =       0.324129828 NCalls =    212\n",
      "Info in <Minuit2>: VariableMetricBuilder   10 - FCN =      -8464.661116 Edm =       1.391250129 NCalls =    231\n",
      "Info in <Minuit2>: VariableMetricBuilder   11 - FCN =      -8466.305567 Edm =      0.1517201194 NCalls =    247\n",
      "Info in <Minuit2>: VariableMetricBuilder   12 - FCN =      -8466.517162 Edm =     0.07272264928 NCalls =    263\n",
      "Info in <Minuit2>: VariableMetricBuilder   13 - FCN =      -8466.733427 Edm =      0.1192787442 NCalls =    279\n",
      "Info in <Minuit2>: VariableMetricBuilder   14 - FCN =      -8466.872532 Edm =     0.02222705605 NCalls =    295\n",
      "Info in <Minuit2>: VariableMetricBuilder   15 - FCN =      -8466.903572 Edm =    0.004291942926 NCalls =    311\n",
      "Info in <Minuit2>: VariableMetricBuilder   16 - FCN =      -8466.927492 Edm =     0.01111804029 NCalls =    328\n",
      "Info in <Minuit2>: VariableMetricBuilder   17 - FCN =      -8467.066655 Edm =     0.04433488699 NCalls =    345\n",
      "Info in <Minuit2>: VariableMetricBuilder   18 - FCN =      -8467.150198 Edm =     0.01808266986 NCalls =    362\n",
      "Info in <Minuit2>: VariableMetricBuilder   19 - FCN =      -8467.163735 Edm =    0.001553483703 NCalls =    378\n",
      "Info in <Minuit2>: VariableMetricBuilder   20 - FCN =      -8467.164967 Edm =   7.096586174e-05 NCalls =    394\n",
      "Info in <Minuit2>: VariableMetricBuilder After Hessian\n",
      "Info in <Minuit2>: VariableMetricBuilder   21 - FCN =      -8467.164967 Edm =    6.41661489e-05 NCalls =    446\n",
      "Info in <Minuit2>: Minuit2Minimizer::Hesse Using max-calls 3500\n",
      "Info in <Minuit2>: Minuit2Minimizer::Hesse Hesse is valid - matrix is accurate\n"
     ]
    }
   ],
   "source": [
    "fit_result = model.fitTo(data, ROOT.RooFit.Save())"
   ]
  },
  {
   "cell_type": "code",
   "execution_count": 27,
   "metadata": {
    "colab": {
     "base_uri": "https://localhost:8080/",
     "height": 658
    },
    "id": "4yQMfucjY09Z",
    "outputId": "b7dcddf8-c609-49f1-b69a-4e697518245d"
   },
   "outputs": [
    {
     "name": "stdout",
     "output_type": "stream",
     "text": [
      "nr de par: 7\n",
      "chi sqare: 0.8728039185676764\n",
      "chi_square/n_param 1.0524988429786686\n",
      "[#1] INFO:Plotting -- RooAbsPdf::plotOn(model) directly selected PDF components: (gauss,crystal ball)\n",
      "[#1] INFO:Plotting -- RooAbsPdf::plotOn(model) indirectly selected PDF components: ()\n",
      "[#1] INFO:Plotting -- RooAbsPdf::plotOn(model) directly selected PDF components: (bkg)\n",
      "[#1] INFO:Plotting -- RooAbsPdf::plotOn(model) indirectly selected PDF components: ()\n",
      "frame_mass_5b1f34273a30[mass] = (::,::,::,::)\n"
     ]
    },
    {
     "name": "stderr",
     "output_type": "stream",
     "text": [
      "Info in <TCanvas::Print>: png file M_JPsi_fit.png has been created\n"
     ]
    },
    {
     "data": {
      "image/png": "[encoded data removed]",
      "text/plain": [
       "<IPython.core.display.Image object>"
      ]
     },
     "metadata": {},
     "output_type": "display_data"
    }
   ],
   "source": [
    "colors = {\"model\" : 2, \"signal\" : 4, \"background\" : 3}\n",
    "styles = {\"model\" : 1, \"signal\" : 1, \"background\" : 2}\n",
    "\n",
    "ca = ROOT.TCanvas(\"can\", \"\",900,600)\n",
    "\n",
    "frame = mass.frame(ROOT.RooFit.Title(\"J/#psi Mass Fit\"), ROOT.RooFit.Bins(100))\n",
    "frame.GetXaxis().SetTitle(\"m_{#\\mu^+\\mu^-} [GeV/c^2]\")\n",
    "\n",
    "# Data\n",
    "data.plotOn(frame, ROOT.RooFit.Name(\"Data\"), ROOT.RooFit.DataError(ROOT.RooAbsData.SumW2))\n",
    "\n",
    "# Signal\n",
    "model.plotOn(frame, ROOT.RooFit.Name(\"Signal\"), ROOT.RooFit.Components(\"gauss,crystal ball\"), ROOT.RooFit.LineStyle(styles[\"signal\"]), ROOT.RooFit.LineColor(colors[\"signal\"]))\n",
    "\n",
    "# Background\n",
    "model.plotOn(frame, ROOT.RooFit.Name(\"Background\"), ROOT.RooFit.Components(\"bkg\"), ROOT.RooFit.LineStyle(styles[\"background\"]), ROOT.RooFit.LineColor(colors[\"background\"]))\n",
    "\n",
    "# Model\n",
    "model.plotOn(frame, ROOT.RooFit.Name(\"Model\"), ROOT.RooFit.LineStyle(styles[\"model\"]), ROOT.RooFit.LineColor(colors[\"model\"]))\n",
    "\n",
    "frame.Print()\n",
    "\n",
    "# Extraindo os parâmetros ajustados e seus erros\n",
    "mean_val = mean.getValV()\n",
    "mean_err = mean.getError()\n",
    "sigma_val = sigma_gauss.getValV()\n",
    "sigma_err = sigma_gauss.getError()\n",
    "\n",
    "import math\n",
    "\n",
    "# Cálculo do número total de eventos (n_total)\n",
    "n_total = data.sumEntries()\n",
    "\n",
    "# Cálculo do yields do sinal\n",
    "frac_cb_val = frac_cb.getVal()  # Valor de frac_cb\n",
    "frac_gauss_val = frac_gauss.getVal()  # Valor de frac_gauss\n",
    "frac_cb_err = frac_cb.getError()\n",
    "frac_gauss_err = frac_gauss.getError()\n",
    "\n",
    "# Número de eventos de sinal\n",
    "nsignal = n_total * (frac_cb_val + (1 - frac_cb_val) * frac_gauss_val)\n",
    "# Propagação de erros para o sinal\n",
    "nsignal_err = n_total * math.sqrt((frac_cb_err)**2 + ((1 - frac_cb_val) * frac_gauss_err)**2)\n",
    "\n",
    "# Número de eventos de fundo (N_total - N_signal)\n",
    "#nbackground = n_total - nsignal ou N_back = n_total (1 - fgauss) * (1 - fcrystall) * fexponential\n",
    "\n",
    "nbackground = n_total * (1 - frac_gauss_val) * (1 - frac_cb_val)\n",
    "\n",
    "# Propagação de erros para o fundo\n",
    "nbackground_err = n_total * math.sqrt(\n",
    "    ((1 - frac_cb_val) * frac_gauss_err) ** 2 +\n",
    "    ((1 - frac_gauss_val) * frac_cb_err) ** 2\n",
    ")\n",
    "\n",
    "\n",
    "## ChiSquare computation\n",
    "n_param = fit_result.floatParsFinal().getSize()\n",
    "print(\"nr de par:\", n_param)\n",
    "reduce_chi_square = frame.chiSquare(n_param)\n",
    "print(\"chi sqare:\", frame.chiSquare() )\n",
    "print(\"chi_square/n_param\", reduce_chi_square )\n",
    "\n",
    "frame.Draw()\n",
    "\n",
    "## Legendas\n",
    "\n",
    "#legend_text = ROOT.TPaveText(0.65, 0.6, 0.9, 0.85, \"NDC\")\n",
    "#legend_text = ROOT.TPaveText(0.75, 0.25, 0.9, 0.35, \"NDC\")\n",
    "legend_text = ROOT.TPaveText(0.7, 0.55, 0.88, 0.7, \"NDC\")\n",
    "legend_text.AddText(f\"Mean = {mean_val:.4f} #pm {mean_err:.4f} GeV/c^2\")\n",
    "legend_text.AddText(f\"Sigma = {sigma_val:.4f} #pm {sigma_err:.4f} GeV/c^2\")\n",
    "# Adicionar o rendimento do sinal e do fundo\n",
    "legend_text.AddText(f\"Signal Yield = {nsignal:.0f} #pm {nsignal_err:.0f}\")\n",
    "legend_text.AddText(f\"Background Yield = {nbackground:.0f} #pm {nbackground_err:.0f}\")\n",
    "#legend_text.AddText(f\"nr de param = {n_param:.2f}\")\n",
    "legend_text.AddText(f\"Chi2/ndof = {reduce_chi_square:.2f}\")\n",
    "\n",
    "legend_text.SetFillColor(0)\n",
    "legend_text.SetBorderSize(1)\n",
    "legend_text.Draw()\n",
    "\n",
    "#leg = ROOT.TLegend(0.7, 0.7, 0.88, 0.89)\n",
    "leg = ROOT.TLegend(0.7, 0.75, 0.88, 0.89)\n",
    "leg.AddEntry(frame.findObject(\"Data\"), \"Data\", \"LEP\")\n",
    "leg.AddEntry(frame.findObject(\"Model\"), \"Model Fit\", \"L\")\n",
    "leg.AddEntry(frame.findObject(\"Signal\"), \"Signal Fit\", \"L\")\n",
    "leg.AddEntry(frame.findObject(\"Background\"), \"Background fit\", \"L\")\n",
    "\n",
    "\n",
    "\n",
    "leg.Draw(\"same\")\n",
    "ca.Update()\n",
    "ca.Draw()\n",
    "\n",
    "ca.SaveAs(\"M_JPsi_fit.png\")"
   ]
  },
  {
   "cell_type": "code",
   "execution_count": 28,
   "metadata": {
    "colab": {
     "base_uri": "https://localhost:8080/"
    },
    "id": "NG1uwOi9-7eY",
    "outputId": "4d035ce2-8973-4896-9930-e3362937f636"
   },
   "outputs": [
    {
     "name": "stdout",
     "output_type": "stream",
     "text": [
      "\n",
      "  RooFitResult: minimized FCN value: -8467.16, estimated distance to minimum: 6.4041e-05\n",
      "                covariance matrix quality: Full, accurate covariance matrix\n",
      "                Status : MINIMIZE=0 HESSE=0 \n",
      "\n",
      "    Floating Parameter    FinalValue +/-  Error   \n",
      "  --------------------  --------------------------\n",
      "                 alpha    1.1001e+00 +/-  1.54e-01\n",
      "                exp_c0   -9.5965e-01 +/-  2.85e-01\n",
      "               frac_cb    5.9853e-01 +/-  7.02e-02\n",
      "            frac_gauss    4.3904e-01 +/-  8.53e-02\n",
      "                  mean    3.0939e+00 +/-  8.28e-04\n",
      "              sigma cb    2.2967e-02 +/-  2.56e-03\n",
      "           sigma gauss    4.4241e-02 +/-  2.51e-03\n",
      "\n"
     ]
    }
   ],
   "source": [
    "fit_result.Print()"
   ]
  },
  {
   "cell_type": "markdown",
   "metadata": {
    "id": "oArskupFEP-x"
   },
   "source": [
    "O pull é uma medida de quão bem o seu modelo ajustado se alinha com os dados. Para cada bin, o pull representa a diferença entre o valor observado (dados) e o valor previsto pelo ajuste (modelo), normalizado pelo erro. Idealmente, a distribuição de pull deve ser centrada em torno de zero com um desvio padrão próximo de 1."
   ]
  },
  {
   "cell_type": "code",
   "execution_count": 29,
   "metadata": {
    "colab": {
     "base_uri": "https://localhost:8080/",
     "height": 273
    },
    "id": "4cmSc01JDOSm",
    "outputId": "3ba21f4d-67cf-4157-ec06-276e5e28f42e"
   },
   "outputs": [
    {
     "name": "stdout",
     "output_type": "stream",
     "text": [
      "Mean of Pull: -0.015333352157576542\n",
      "Sigma (Standard Deviation) of Pull: 0.8888218788082676\n"
     ]
    },
    {
     "data": {
      "image/png": "[encoded data removed]",
      "text/plain": [
       "<IPython.core.display.Image object>"
      ]
     },
     "metadata": {},
     "output_type": "display_data"
    }
   ],
   "source": [
    "# Crie um frame a partir da variável 'mass' que está sendo ajustada\n",
    "mass_frame = mass.frame(ROOT.RooFit.Title(\"Fit Results\"))\n",
    "\n",
    "# Plote os dados no frame\n",
    "data.plotOn(mass_frame)\n",
    "\n",
    "# Plote o modelo ajustado no frame\n",
    "model.plotOn(mass_frame)\n",
    "\n",
    "# Agora crie o histograma de pulls a partir do gráfico de ajuste\n",
    "histpull = mass_frame.pullHist()\n",
    "\n",
    "# Crie um novo frame para a distribuição de pulls\n",
    "pull_frame = mass.frame(ROOT.RooFit.Title(\"Pull Distribution\"))\n",
    "pull_frame.addPlotable(histpull, \"P\")\n",
    "\n",
    "\n",
    "can2 = ROOT.TCanvas(\"can2\", \"Pull Distribution\", 900, 300)\n",
    "\n",
    "# Ajuste o frame para o pull\n",
    "pull_frame.GetXaxis().SetTitle(\"m_{#mu^+\\mu^-} [GeV/c^2]\")\n",
    "pull_frame.GetYaxis().SetTitle(\"Pull\")\n",
    "pull_frame.GetYaxis().SetTitleOffset(1.6)\n",
    "\n",
    "# Desenhe o gráfico de pull\n",
    "can2.cd()\n",
    "pull_frame.Draw()\n",
    "\n",
    "# Calcular o mean e o desvio padrão dos pulls\n",
    "mean_hist = histpull.GetMean()\n",
    "stddev_hist = histpull.GetRMS()\n",
    "\n",
    "mean_pull = np.mean(histpull.GetY())  # Calcula o valor médio (mean) dos pulls\n",
    "sigma_pull = np.std(histpull.GetY())  # Calcula o desvio padrão (sigma) dos pulls\n",
    "print(f\"Mean of Pull: {mean_pull}\")\n",
    "print(f\"Sigma (Standard Deviation) of Pull: {sigma_pull}\")\n",
    "# Adicionando o texto com o mean e o desvio padrão no gráfico de pull\n",
    "latex = ROOT.TLatex()\n",
    "latex.SetNDC()  # Para coordenadas normalizadas\n",
    "\n",
    "# Desenhe o mean e stddev no gráfico\n",
    "latex.DrawLatex(0.15, 0.85, f\"Mean: {mean_pull:.2f}\")\n",
    "latex.DrawLatex(0.15, 0.80, f\"Std Dev: {sigma_pull:.2f}\")\n",
    "\n",
    "# Exibir o canvas com a informação correta\n",
    "can2.Draw()"
   ]
  },
  {
   "cell_type": "code",
   "execution_count": 30,
   "metadata": {
    "colab": {
     "base_uri": "https://localhost:8080/"
    },
    "id": "nKRZcZEWEgDD",
    "outputId": "015b2726-08cd-47dc-d3fb-55c2e285df4f"
   },
   "outputs": [
    {
     "data": {
      "text/plain": [
       "False"
      ]
     },
     "execution_count": 30,
     "metadata": {},
     "output_type": "execute_result"
    },
    {
     "name": "stdout",
     "output_type": "stream",
     "text": [
      "[#1] INFO:ObjectHandling -- RooWorkspace::import(Jpsi fit) importing dataset data\n",
      "[#1] INFO:ObjectHandling -- RooWorkspace::import(Jpsi fit) importing RooRealVar::mass\n",
      "[#1] INFO:ObjectHandling -- RooWorkspace::import(Jpsi fit) importing RooAddPdf::model\n",
      "[#1] INFO:ObjectHandling -- RooWorkspace::import(Jpsi fit) importing RooGaussian::gauss\n",
      "[#1] INFO:ObjectHandling -- RooWorkspace::import(Jpsi fit) importing RooRealVar::mean\n",
      "[#1] INFO:ObjectHandling -- RooWorkspace::import(Jpsi fit) importing RooRealVar::sigma gauss\n",
      "[#1] INFO:ObjectHandling -- RooWorkspace::import(Jpsi fit) importing RooRealVar::frac_gauss\n",
      "[#1] INFO:ObjectHandling -- RooWorkspace::import(Jpsi fit) importing RooCBShape::crystal ball\n",
      "[#1] INFO:ObjectHandling -- RooWorkspace::import(Jpsi fit) importing RooRealVar::sigma cb\n",
      "[#1] INFO:ObjectHandling -- RooWorkspace::import(Jpsi fit) importing RooRealVar::alpha\n",
      "[#1] INFO:ObjectHandling -- RooWorkspace::import(Jpsi fit) importing RooRealVar::n\n",
      "[#1] INFO:ObjectHandling -- RooWorkspace::import(Jpsi fit) importing RooRecursiveFraction::model_recursive_fraction_crystal ball_2\n",
      "[#1] INFO:ObjectHandling -- RooWorkspace::import(Jpsi fit) importing RooRealVar::frac_cb\n",
      "[#1] INFO:ObjectHandling -- RooWorkspace::import(Jpsi fit) importing RooExponential::bkg\n",
      "[#1] INFO:ObjectHandling -- RooWorkspace::import(Jpsi fit) importing RooRealVar::exp_c0\n",
      "[#1] INFO:ObjectHandling -- RooWorkspace::import(Jpsi fit) importing RooRecursiveFraction::model_recursive_fraction_bkg_3\n",
      "[#1] INFO:ObjectHandling -- RooWorkspace::import(Jpsi fit) importing RooConstVar::1\n"
     ]
    }
   ],
   "source": [
    "# Workspace\n",
    "wspace = ROOT.RooWorkspace(\"Jpsi fit\")\n",
    "\n",
    "getattr(wspace, \"import\")(data)\n",
    "getattr(wspace, \"import\")(model)\n",
    "\n",
    "wspace.writeToFile(\"Jpsi_fit.root\")\n",
    "\n",
    "#ROOT.DisableImplicitMT()"
   ]
  }
 ],
 "metadata": {
  "colab": {
   "provenance": []
  },
  "kernelspec": {
   "display_name": "Python 3 (ipykernel)",
   "language": "python",
   "name": "python3"
  },
  "language_info": {
   "codemirror_mode": {
    "name": "ipython",
    "version": 3
   },
   "file_extension": ".py",
   "mimetype": "text/x-python",
   "name": "python",
   "nbconvert_exporter": "python",
   "pygments_lexer": "ipython3",
   "version": "3.12.2"
  }
 },
 "nbformat": 4,
 "nbformat_minor": 4
}
