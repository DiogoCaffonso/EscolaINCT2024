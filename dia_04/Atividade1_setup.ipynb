{
  "nbformat": 4,
  "nbformat_minor": 0,
  "metadata": {
    "colab": {
      "provenance": []
    },
    "kernelspec": {
      "name": "python3",
      "display_name": "Python 3"
    },
    "language_info": {
      "name": "python"
    }
  },
  "cells": [
    {
      "cell_type": "markdown",
      "source": [
        "Nesta etapa vamos nos preparar a atividade de análise de dados utilizando imagens do docker com versões de software \"antigas\" (usadas durante o Run 2 do LHC) além da amostra de sinal para tal fim."
      ],
      "metadata": {
        "id": "-SvOnFV-1uTN"
      }
    },
    {
      "cell_type": "markdown",
      "source": [
        "# 1. Instalando alguns pacotes\n"
      ],
      "metadata": {
        "id": "2qTYf9tzy-0b"
      }
    },
    {
      "cell_type": "markdown",
      "source": [
        "**Bash**\n",
        "\n",
        "`pip install yadage`\n",
        "\n",
        "`pip install recast-atlas`"
      ],
      "metadata": {
        "id": "LOLSzskKzFa0"
      }
    },
    {
      "cell_type": "markdown",
      "source": [
        "# 2. Baixando as imagens: `docker pulls`\n",
        "\n",
        "Assumindo que você já instalou o docker na `Atividade1_Docker.ipynb` em sua máquina local.\n",
        "\n",
        "**OBS.**: estas instalações não devem ser feitas no lxplus.\n",
        "\n",
        "**Bash**\n",
        "```\n",
        "docker pull atlas/analysisbase:21.2.85-centos7\n",
        "docker pull matthewfeickert/intro-to-docker\n",
        "docker pull debian:buster\n",
        "docker pull yadage/yadage\n",
        "docker pull yadage/tutorial-messagewriter\n",
        "docker pull yadage/tutorial-uppermaker\n",
        "```\n",
        "\n"
      ],
      "metadata": {
        "id": "YMQyXCpEzfGi"
      }
    },
    {
      "cell_type": "markdown",
      "source": [
        "# 3. Amostra de sinal\n",
        "\n",
        "`/eos/project/i/inct-cern-gt7/atividade1_recast/DAOD_EXOT27.20140688._000071.pool.root.1`"
      ],
      "metadata": {
        "id": "FnYnSPpk07CQ"
      }
    },
    {
      "cell_type": "code",
      "source": [],
      "metadata": {
        "id": "fcBnXSzLzEyl"
      },
      "execution_count": null,
      "outputs": []
    }
  ]
}